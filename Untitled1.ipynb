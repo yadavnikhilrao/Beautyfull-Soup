{
 "cells": [
  {
   "cell_type": "code",
   "execution_count": 107,
   "id": "2bbdae46",
   "metadata": {},
   "outputs": [
    {
     "name": "stdout",
     "output_type": "stream",
     "text": [
      "please enter what you want to scrap: today news\n",
      "Latest News, Breaking News Today - Bollywood, Cricket, Business ...\n",
      "Hindi news, हिंदी न्यूज़ , Hindi Samachar, हिंदी समाचार, Latest News in ...\n",
      "Hindustan Times: News Headlines, English News, Today Headlines ...\n",
      "India News, India News Live and Breaking News Today\n",
      "Latest News, Breaking News, Top News Headlines and Current Affairs\n",
      "Times of India: News - Latest News, Breaking News, Bollywood ...\n",
      "Latest News Today: Breaking News in India, Entertainment ...\n",
      "NDTV.com: Get Latest News, India News, Breaking News, Today's ...\n",
      "Latest News: Today's big news headlines from India ... - NDTV.com\n",
      "Zee News: Latest News, Live Breaking News, Today News, India ...\n"
     ]
    }
   ],
   "source": [
    "from bs4 import BeautifulSoup\n",
    "import requests\n",
    "import webbrowser\n",
    "# For scraping article and getting its title and body(p tags content)\n",
    "google = \"https://www.google.com/search?q=\"\n",
    "url = input(\"please enter what you want to scrap: \")\n",
    "url = google+url.replace(\" \",\"+\")\n",
    "url\n",
    "res = requests.get(url)\n",
    "html_cont = res.content\n",
    "data = BeautifulSoup(html_cont,'html.parser')\n",
    "for i in data.find_all('h3',{'class':\"zBAuLc l97dzf\"}):\n",
    "    print(i.text)"
   ]
  },
  {
   "cell_type": "code",
   "execution_count": null,
   "id": "1770a707",
   "metadata": {},
   "outputs": [],
   "source": []
  },
  {
   "cell_type": "code",
   "execution_count": null,
   "id": "e3056f9a",
   "metadata": {},
   "outputs": [],
   "source": []
  }
 ],
 "metadata": {
  "kernelspec": {
   "display_name": "Python 3 (ipykernel)",
   "language": "python",
   "name": "python3"
  },
  "language_info": {
   "codemirror_mode": {
    "name": "ipython",
    "version": 3
   },
   "file_extension": ".py",
   "mimetype": "text/x-python",
   "name": "python",
   "nbconvert_exporter": "python",
   "pygments_lexer": "ipython3",
   "version": "3.9.13"
  }
 },
 "nbformat": 4,
 "nbformat_minor": 5
}
